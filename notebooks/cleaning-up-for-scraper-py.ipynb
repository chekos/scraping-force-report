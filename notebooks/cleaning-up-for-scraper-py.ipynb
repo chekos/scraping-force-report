{
 "cells": [
  {
   "cell_type": "markdown",
   "metadata": {},
   "source": [
    "# Cleaning up the code\n",
    "\n",
    "Steps:\n",
    "1. Compile list of possible police-dept options from dropdown menu search box\n",
    "2. From each one retrieve:\n",
    "  - Likelihood of force (black vs white) based on population\n",
    "  - Likelihood of force (black vs white) based on arrests\n",
    "  - No. of police officers that would be flagged under LAPD standards\n",
    "  - No. of police officers that would be flagged under NYPD standards\n",
    "  - No. of police officers that would be flagged under Chicago PD standards\n",
    "  \n",
    "Notes: No. of police officers flagged only appears when the page is visited by a browser. If you use `requests` the `<div>` where these numbers would appears shows up empty. "
   ]
  },
  {
   "cell_type": "code",
   "execution_count": 1,
   "metadata": {},
   "outputs": [],
   "source": [
    "import pandas as pd\n",
    "from selenium import webdriver\n",
    "import requests\n",
    "from pathlib import Path\n",
    "from tools import tree\n",
    "from datetime import datetime as dt\n",
    "\n",
    "today = dt.today().strftime(\"%Y-%m-%d\")"
   ]
  },
  {
   "cell_type": "code",
   "execution_count": 2,
   "metadata": {},
   "outputs": [],
   "source": [
    "RAW_DATA = Path(\"../data/raw/\")\n",
    "INTERIM_DATA = Path(\"../data/interim/\")\n",
    "PROCESSED_DATA = Path(\"../data/processed/\")\n",
    "FINAL_DATA = Path(\"../data/final/\")"
   ]
  },
  {
   "cell_type": "code",
   "execution_count": 5,
   "metadata": {},
   "outputs": [],
   "source": [
    "BASE_URL = 'http://force.nj.com'"
   ]
  },
  {
   "cell_type": "code",
   "execution_count": 4,
   "metadata": {},
   "outputs": [],
   "source": [
    "browser = webdriver.Chrome(\"./chromedriver\")"
   ]
  },
  {
   "cell_type": "code",
   "execution_count": 6,
   "metadata": {},
   "outputs": [],
   "source": [
    "browser.get(BASE_URL)"
   ]
  },
  {
   "cell_type": "code",
   "execution_count": 13,
   "metadata": {},
   "outputs": [],
   "source": [
    "police_depts_list = browser.find_element_by_id(\"mylist\")"
   ]
  },
  {
   "cell_type": "code",
   "execution_count": 15,
   "metadata": {},
   "outputs": [],
   "source": [
    "police_depts = police_depts_list.find_elements_by_tag_name(\"option\")"
   ]
  },
  {
   "cell_type": "code",
   "execution_count": 27,
   "metadata": {},
   "outputs": [],
   "source": [
    "test_option = police_depts[0]"
   ]
  },
  {
   "cell_type": "code",
   "execution_count": 28,
   "metadata": {},
   "outputs": [
    {
     "data": {
      "text/plain": [
       "'/database/pd-dept/aberdeen-monmouth'"
      ]
     },
     "execution_count": 28,
     "metadata": {},
     "output_type": "execute_result"
    }
   ],
   "source": [
    "test_option.get_attribute('value')"
   ]
  },
  {
   "cell_type": "code",
   "execution_count": 29,
   "metadata": {},
   "outputs": [
    {
     "data": {
      "text/plain": [
       "'Aberdeen, Monmouth '"
      ]
     },
     "execution_count": 29,
     "metadata": {},
     "output_type": "execute_result"
    }
   ],
   "source": [
    "test_option.get_attribute('innerHTML')"
   ]
  },
  {
   "cell_type": "code",
   "execution_count": 25,
   "metadata": {},
   "outputs": [],
   "source": [
    "depts_list = []\n",
    "for dept in police_depts:\n",
    "    dept_info = {}\n",
    "    dept_info['name'] = dept.get_attribute(\"innerHTML\").strip()\n",
    "    dept_info['relative_url'] = dept.get_attribute(\"value\")\n",
    "    depts_list.append(dept_info)"
   ]
  },
  {
   "cell_type": "code",
   "execution_count": 30,
   "metadata": {},
   "outputs": [],
   "source": [
    "test_dept = depts_list[0]"
   ]
  },
  {
   "cell_type": "code",
   "execution_count": 31,
   "metadata": {},
   "outputs": [],
   "source": [
    "browser.get(BASE_URL + test_dept['relative_url'])"
   ]
  },
  {
   "cell_type": "code",
   "execution_count": 32,
   "metadata": {},
   "outputs": [],
   "source": [
    "rbk = browser.find_element_by_class_name(\"racial_breakdown\")"
   ]
  },
  {
   "cell_type": "code",
   "execution_count": 39,
   "metadata": {},
   "outputs": [],
   "source": [
    "left_div = rbk.find_element_by_class_name(\"left\")\n",
    "right_div = rbk.find_element_by_class_name(\"right\")"
   ]
  },
  {
   "cell_type": "code",
   "execution_count": 41,
   "metadata": {},
   "outputs": [
    {
     "data": {
      "text/plain": [
       "'population,'"
      ]
     },
     "execution_count": 41,
     "metadata": {},
     "output_type": "execute_result"
    }
   ],
   "source": [
    "left_div.find_element_by_class_name(\"important_num2\").get_property(\"innerHTML\")"
   ]
  },
  {
   "cell_type": "code",
   "execution_count": 42,
   "metadata": {},
   "outputs": [
    {
     "data": {
      "text/plain": [
       "'\\n\\n\\n              294%\\n\\n             \\n\\n            '"
      ]
     },
     "execution_count": 42,
     "metadata": {},
     "output_type": "execute_result"
    }
   ],
   "source": [
    "left_div.find_element_by_class_name(\"important_num1\").get_property(\"innerHTML\")"
   ]
  },
  {
   "cell_type": "code",
   "execution_count": 43,
   "metadata": {},
   "outputs": [],
   "source": [
    "def get_likelihood_numbers(div_name = 'left'):\n",
    "    race_breakdown = browser.find_element_by_class_name(\"racial_breakdown\")\n",
    "    div = rbk.find_element_by_class_name(div_name)\n",
    "    based_on = div.find_element_by_class_name(\"important_num2\").get_property(\"innerHTML\").strip()\n",
    "    likelihood = div.find_element_by_class_name(\"important_num1\").get_property(\"innerHTML\").strip()\n",
    "    return (based_on, likelihood)"
   ]
  },
  {
   "cell_type": "code",
   "execution_count": 45,
   "metadata": {},
   "outputs": [
    {
     "data": {
      "text/plain": [
       "('arrests,', '42%')"
      ]
     },
     "execution_count": 45,
     "metadata": {},
     "output_type": "execute_result"
    }
   ],
   "source": [
    "get_likelihood_numbers('right')"
   ]
  },
  {
   "cell_type": "code",
   "execution_count": 52,
   "metadata": {},
   "outputs": [],
   "source": [
    "early_warning = browser.find_element_by_class_name(\"earlywarning\")"
   ]
  },
  {
   "cell_type": "code",
   "execution_count": 49,
   "metadata": {},
   "outputs": [
    {
     "data": {
      "text/plain": [
       "[<selenium.webdriver.remote.webelement.WebElement (session=\"64856079453687ccc5975b303d3cdba1\", element=\"ef8aa835-d3ae-490e-a266-3c2f54b05b0d\")>,\n",
       " <selenium.webdriver.remote.webelement.WebElement (session=\"64856079453687ccc5975b303d3cdba1\", element=\"734c88c6-f1e1-4d6a-818f-45b6f296d5aa\")>,\n",
       " <selenium.webdriver.remote.webelement.WebElement (session=\"64856079453687ccc5975b303d3cdba1\", element=\"157af821-ae8f-4c0d-a194-e41c18c3578f\")>,\n",
       " <selenium.webdriver.remote.webelement.WebElement (session=\"64856079453687ccc5975b303d3cdba1\", element=\"5d1c2f2d-7d62-4dc3-a9f9-0919805508ee\")>,\n",
       " <selenium.webdriver.remote.webelement.WebElement (session=\"64856079453687ccc5975b303d3cdba1\", element=\"07350254-f2a0-4e83-a94c-01fe7cca4d70\")>,\n",
       " <selenium.webdriver.remote.webelement.WebElement (session=\"64856079453687ccc5975b303d3cdba1\", element=\"22c03eca-fefd-4e46-a096-5a8c93660342\")>]"
      ]
     },
     "execution_count": 49,
     "metadata": {},
     "output_type": "execute_result"
    }
   ],
   "source": [
    "early_warning.find_elements_by_class_name(\"important_num_red2\")"
   ]
  },
  {
   "cell_type": "code",
   "execution_count": 53,
   "metadata": {},
   "outputs": [],
   "source": [
    "def get_flagging_officer_numbers():\n",
    "    early_warning = browser.find_element_by_class_name(\"earlywarning\")\n",
    "    elements = early_warning.find_elements_by_class_name(\"important_num_red2\")\n",
    "    if len(elements) == 6:\n",
    "        first_city = elements[0].get_property(\"innerHTML\")\n",
    "        first_city_n = elements[1].get_property(\"innerHTML\")\n",
    "        second_city = elements[2].get_property(\"innerHTML\")\n",
    "        second_city_n = elements[3].get_property(\"innerHTML\")\n",
    "        third_city = elements[4].get_property(\"innerHTML\")\n",
    "        third_city_n = elements[5].get_property(\"innerHTML\")\n",
    "    return (first_city, first_city_n, second_city, second_city_n, third_city, third_city_n)"
   ]
  },
  {
   "cell_type": "code",
   "execution_count": 54,
   "metadata": {},
   "outputs": [
    {
     "data": {
      "text/plain": [
       "(\"Los Angeles'\", '4', \"New York City's\", '15', \"Chicago's\", '16')"
      ]
     },
     "execution_count": 54,
     "metadata": {},
     "output_type": "execute_result"
    }
   ],
   "source": [
    "get_flagging_officer_numbers()"
   ]
  },
  {
   "cell_type": "code",
   "execution_count": 56,
   "metadata": {},
   "outputs": [],
   "source": [
    "for dept in depts_list:\n",
    "    # go to page\n",
    "    browser.get(BASE_URL + dept['relative_url'])\n",
    "    \n",
    "    # get likelihood numbers\n",
    "    # by population\n",
    "    try:\n",
    "        (prop, number) = get_likelihood_numbers('left')\n",
    "        dept[prop] = number\n",
    "    except:\n",
    "        dept['population'] = 'Not found'\n",
    "    # by arrests\n",
    "    try:\n",
    "        (prop, number) = get_likelihood_numbers('right')\n",
    "        dept[prop] = number\n",
    "    except:\n",
    "        dept['arrests'] = 'Not found'\n",
    "    \n",
    "    # get no of officers that would be flagged in other cities\n",
    "    try:\n",
    "        (first_city, first_city_n, second_city, second_city_n, third_city, third_city_n) = get_flagging_officer_numbers()\n",
    "        dept[first_city] = first_city_n\n",
    "        dept[second_city] = second_city_n\n",
    "        dept[third_city] = third_city_n\n",
    "    except:\n",
    "        dept['Los Angeles'] = 'Not found'\n",
    "        dept['New York City'] = 'Not found'\n",
    "        dept['Chicago'] = 'Not found'\n",
    "        "
   ]
  },
  {
   "cell_type": "code",
   "execution_count": 58,
   "metadata": {},
   "outputs": [
    {
     "data": {
      "text/html": [
       "<div>\n",
       "<style scoped>\n",
       "    .dataframe tbody tr th:only-of-type {\n",
       "        vertical-align: middle;\n",
       "    }\n",
       "\n",
       "    .dataframe tbody tr th {\n",
       "        vertical-align: top;\n",
       "    }\n",
       "\n",
       "    .dataframe thead th {\n",
       "        text-align: right;\n",
       "    }\n",
       "</style>\n",
       "<table border=\"1\" class=\"dataframe\">\n",
       "  <thead>\n",
       "    <tr style=\"text-align: right;\">\n",
       "      <th></th>\n",
       "      <th>name</th>\n",
       "      <th>relative_url</th>\n",
       "      <th>population</th>\n",
       "      <th>arrests</th>\n",
       "      <th>Los Angeles'</th>\n",
       "      <th>New York City's</th>\n",
       "      <th>Chicago's</th>\n",
       "      <th>Los Angeles</th>\n",
       "      <th>New York City</th>\n",
       "      <th>Chicago</th>\n",
       "    </tr>\n",
       "  </thead>\n",
       "  <tbody>\n",
       "    <tr>\n",
       "      <th>0</th>\n",
       "      <td>Aberdeen, Monmouth</td>\n",
       "      <td>/database/pd-dept/aberdeen-monmouth</td>\n",
       "      <td>Not found</td>\n",
       "      <td>Not found</td>\n",
       "      <td>4</td>\n",
       "      <td>15</td>\n",
       "      <td>16</td>\n",
       "      <td>NaN</td>\n",
       "      <td>NaN</td>\n",
       "      <td>NaN</td>\n",
       "    </tr>\n",
       "    <tr>\n",
       "      <th>1</th>\n",
       "      <td>Absecon, Atlantic</td>\n",
       "      <td>/database/pd-dept/absecon-atlantic</td>\n",
       "      <td>Not found</td>\n",
       "      <td>Not found</td>\n",
       "      <td>0</td>\n",
       "      <td>9</td>\n",
       "      <td>13</td>\n",
       "      <td>NaN</td>\n",
       "      <td>NaN</td>\n",
       "      <td>NaN</td>\n",
       "    </tr>\n",
       "    <tr>\n",
       "      <th>2</th>\n",
       "      <td>Allendale, Bergen</td>\n",
       "      <td>/database/pd-dept/allendale-bergen</td>\n",
       "      <td>Not found</td>\n",
       "      <td>Not found</td>\n",
       "      <td>0</td>\n",
       "      <td>2</td>\n",
       "      <td>3</td>\n",
       "      <td>NaN</td>\n",
       "      <td>NaN</td>\n",
       "      <td>NaN</td>\n",
       "    </tr>\n",
       "    <tr>\n",
       "      <th>3</th>\n",
       "      <td>Allenhurst, Monmouth</td>\n",
       "      <td>/database/pd-dept/allenhurst-monmouth</td>\n",
       "      <td>Not found</td>\n",
       "      <td>Not found</td>\n",
       "      <td>0</td>\n",
       "      <td>4</td>\n",
       "      <td>4</td>\n",
       "      <td>NaN</td>\n",
       "      <td>NaN</td>\n",
       "      <td>NaN</td>\n",
       "    </tr>\n",
       "    <tr>\n",
       "      <th>4</th>\n",
       "      <td>Allentown, Monmouth</td>\n",
       "      <td>/database/pd-dept/allentown-monmouth</td>\n",
       "      <td>Not found</td>\n",
       "      <td>Not found</td>\n",
       "      <td>0</td>\n",
       "      <td>1</td>\n",
       "      <td>1</td>\n",
       "      <td>NaN</td>\n",
       "      <td>NaN</td>\n",
       "      <td>NaN</td>\n",
       "    </tr>\n",
       "    <tr>\n",
       "      <th>...</th>\n",
       "      <td>...</td>\n",
       "      <td>...</td>\n",
       "      <td>...</td>\n",
       "      <td>...</td>\n",
       "      <td>...</td>\n",
       "      <td>...</td>\n",
       "      <td>...</td>\n",
       "      <td>...</td>\n",
       "      <td>...</td>\n",
       "      <td>...</td>\n",
       "    </tr>\n",
       "    <tr>\n",
       "      <th>542</th>\n",
       "      <td>Knowlton Township, Warren</td>\n",
       "      <td>/database/pd-dept/knowlton-township-warren</td>\n",
       "      <td>Not found</td>\n",
       "      <td>Not found</td>\n",
       "      <td>NaN</td>\n",
       "      <td>NaN</td>\n",
       "      <td>NaN</td>\n",
       "      <td>Not found</td>\n",
       "      <td>Not found</td>\n",
       "      <td>Not found</td>\n",
       "    </tr>\n",
       "    <tr>\n",
       "      <th>543</th>\n",
       "      <td>Liberty Township, Warren</td>\n",
       "      <td>/database/pd-dept/liberty-township-warren</td>\n",
       "      <td>Not found</td>\n",
       "      <td>Not found</td>\n",
       "      <td>NaN</td>\n",
       "      <td>NaN</td>\n",
       "      <td>NaN</td>\n",
       "      <td>Not found</td>\n",
       "      <td>Not found</td>\n",
       "      <td>Not found</td>\n",
       "    </tr>\n",
       "    <tr>\n",
       "      <th>544</th>\n",
       "      <td>Oxford, Warren</td>\n",
       "      <td>/database/pd-dept/oxford-warren</td>\n",
       "      <td>Not found</td>\n",
       "      <td>Not found</td>\n",
       "      <td>NaN</td>\n",
       "      <td>NaN</td>\n",
       "      <td>NaN</td>\n",
       "      <td>Not found</td>\n",
       "      <td>Not found</td>\n",
       "      <td>Not found</td>\n",
       "    </tr>\n",
       "    <tr>\n",
       "      <th>545</th>\n",
       "      <td>White, Warren</td>\n",
       "      <td>/database/pd-dept/white-warren</td>\n",
       "      <td>Not found</td>\n",
       "      <td>Not found</td>\n",
       "      <td>NaN</td>\n",
       "      <td>NaN</td>\n",
       "      <td>NaN</td>\n",
       "      <td>Not found</td>\n",
       "      <td>Not found</td>\n",
       "      <td>Not found</td>\n",
       "    </tr>\n",
       "    <tr>\n",
       "      <th>546</th>\n",
       "      <td>New Jersey State Police (NJSP)&amp;nbsp;</td>\n",
       "      <td>/database/pd-dept/njsp</td>\n",
       "      <td>Not found</td>\n",
       "      <td>Not found</td>\n",
       "      <td>2</td>\n",
       "      <td>671</td>\n",
       "      <td>676</td>\n",
       "      <td>NaN</td>\n",
       "      <td>NaN</td>\n",
       "      <td>NaN</td>\n",
       "    </tr>\n",
       "  </tbody>\n",
       "</table>\n",
       "<p>547 rows × 10 columns</p>\n",
       "</div>"
      ],
      "text/plain": [
       "                                     name  \\\n",
       "0                      Aberdeen, Monmouth   \n",
       "1                       Absecon, Atlantic   \n",
       "2                       Allendale, Bergen   \n",
       "3                    Allenhurst, Monmouth   \n",
       "4                     Allentown, Monmouth   \n",
       "..                                    ...   \n",
       "542             Knowlton Township, Warren   \n",
       "543              Liberty Township, Warren   \n",
       "544                        Oxford, Warren   \n",
       "545                         White, Warren   \n",
       "546  New Jersey State Police (NJSP)&nbsp;   \n",
       "\n",
       "                                   relative_url population    arrests  \\\n",
       "0           /database/pd-dept/aberdeen-monmouth  Not found  Not found   \n",
       "1            /database/pd-dept/absecon-atlantic  Not found  Not found   \n",
       "2            /database/pd-dept/allendale-bergen  Not found  Not found   \n",
       "3         /database/pd-dept/allenhurst-monmouth  Not found  Not found   \n",
       "4          /database/pd-dept/allentown-monmouth  Not found  Not found   \n",
       "..                                          ...        ...        ...   \n",
       "542  /database/pd-dept/knowlton-township-warren  Not found  Not found   \n",
       "543   /database/pd-dept/liberty-township-warren  Not found  Not found   \n",
       "544             /database/pd-dept/oxford-warren  Not found  Not found   \n",
       "545              /database/pd-dept/white-warren  Not found  Not found   \n",
       "546                      /database/pd-dept/njsp  Not found  Not found   \n",
       "\n",
       "    Los Angeles' New York City's Chicago's Los Angeles New York City  \\\n",
       "0              4              15        16         NaN           NaN   \n",
       "1              0               9        13         NaN           NaN   \n",
       "2              0               2         3         NaN           NaN   \n",
       "3              0               4         4         NaN           NaN   \n",
       "4              0               1         1         NaN           NaN   \n",
       "..           ...             ...       ...         ...           ...   \n",
       "542          NaN             NaN       NaN   Not found     Not found   \n",
       "543          NaN             NaN       NaN   Not found     Not found   \n",
       "544          NaN             NaN       NaN   Not found     Not found   \n",
       "545          NaN             NaN       NaN   Not found     Not found   \n",
       "546            2             671       676         NaN           NaN   \n",
       "\n",
       "       Chicago  \n",
       "0          NaN  \n",
       "1          NaN  \n",
       "2          NaN  \n",
       "3          NaN  \n",
       "4          NaN  \n",
       "..         ...  \n",
       "542  Not found  \n",
       "543  Not found  \n",
       "544  Not found  \n",
       "545  Not found  \n",
       "546        NaN  \n",
       "\n",
       "[547 rows x 10 columns]"
      ]
     },
     "execution_count": 58,
     "metadata": {},
     "output_type": "execute_result"
    }
   ],
   "source": [
    "pd.DataFrame(depts_list)"
   ]
  },
  {
   "cell_type": "markdown",
   "metadata": {},
   "source": [
    "***\n",
    "\n",
    "Restarting from `src/tools/scraper.py`"
   ]
  },
  {
   "cell_type": "code",
   "execution_count": 1,
   "metadata": {},
   "outputs": [],
   "source": [
    "import pandas as pd\n",
    "from selenium import webdriver\n",
    "from pathlib import Path\n",
    "from datetime import datetime as dt \n",
    "today = dt.today().strftime(\"%Y-%m-%d\")\n",
    "\n",
    "# THIS_FILE = Path(__file__)\n",
    "# THIS_DIR = THIS_FILE.parent\n",
    "# CHROMEDRIVER_PATH = THIS_DIR.joinpath(\"./../../notebooks/chromedriver\")\n",
    "# INTERIM_DATA = THIS_DIR.joinpath(\"./../../data/interim/\")\n",
    "# PROCESSED_DATA = THIS_DIR.joinpath(\"./../../data/processed/\")\n",
    "\n",
    "BASE_URL = \"http://force.nj.com\""
   ]
  },
  {
   "cell_type": "code",
   "execution_count": 2,
   "metadata": {},
   "outputs": [],
   "source": [
    "browser = webdriver.Chrome(\"./chromedriver\")\n",
    "# Compile list police dept of options from dropdown menu\n",
    "browser.get(BASE_URL)\n",
    "\n",
    "police_depts_list = browser.find_element_by_id(\"mylist\")\n",
    "police_depts = police_depts_list.find_elements_by_tag_name(\"option\")"
   ]
  },
  {
   "cell_type": "code",
   "execution_count": 3,
   "metadata": {},
   "outputs": [],
   "source": [
    "depts_list = []\n",
    "for dept in police_depts:\n",
    "    dept_info = {}\n",
    "    dept_info['name'] = dept.get_attribute(\"innerHTML\").strip()\n",
    "    dept_info['relative_url'] = dept.get_attribute(\"value\")\n",
    "    depts_list.append(dept_info)"
   ]
  },
  {
   "cell_type": "code",
   "execution_count": 4,
   "metadata": {},
   "outputs": [],
   "source": [
    "def get_likelihood_numbers(div_name = 'left'):\n",
    "    \"\"\"Retrieves 'likelihood of use of force' numbers from force.nj.com website. These numbers are in 2 divs inside the 'race_breakdown' div.\n",
    "\n",
    "    Parameters\n",
    "    ----------\n",
    "    div_name : str, optional\n",
    "        Either the left or the right div, by default 'left'\n",
    "\n",
    "    Returns\n",
    "    -------\n",
    "    touple : touple\n",
    "        A touple containing the property name and likelihood number (text) for either the 'left' or 'right' div.\n",
    "    \"\"\"\n",
    "    race_breakdown = browser.find_element_by_class_name(\"racial_breakdown\")\n",
    "    div = race_breakdown.find_element_by_class_name(div_name)\n",
    "    based_on = div.find_element_by_class_name(\"important_num2\").get_property(\"innerHTML\").strip().replace(\",\", \"\")\n",
    "    likelihood = div.find_element_by_class_name(\"important_num1\").get_property(\"innerHTML\").strip().replace(\",\", \"\")\n",
    "    return (based_on, likelihood)"
   ]
  },
  {
   "cell_type": "code",
   "execution_count": 5,
   "metadata": {},
   "outputs": [],
   "source": [
    "def get_flagging_officer_numbers():\n",
    "    \"\"\"Retrieve the 'number of officers that would be flagged in other agencies' from force.nj.com website. These numbers are inside the 'earlywarning' div.\n",
    "\n",
    "    Returns\n",
    "    -------\n",
    "    touple : touple\n",
    "        A six-part touple containing the city name and number for Los Angeles, New York City, and Chicago.\n",
    "    \"\"\"\n",
    "    early_warning = browser.find_element_by_class_name(\"earlywarning\")\n",
    "    elements = early_warning.find_elements_by_class_name(\"important_num_red2\")\n",
    "    if len(elements) == 6:\n",
    "        first_city = elements[0].get_property(\"innerHTML\").strip().replace(\"'s\", \"\").replace(\"'\", \"\")\n",
    "        first_city_n = elements[1].get_property(\"innerHTML\").strip()\n",
    "        second_city = elements[2].get_property(\"innerHTML\").strip().replace(\"'s\", \"\").replace(\"'\", \"\")\n",
    "        second_city_n = elements[3].get_property(\"innerHTML\").strip()\n",
    "        third_city = elements[4].get_property(\"innerHTML\").strip().replace(\"'s\", \"\").replace(\"'\", \"\")\n",
    "        third_city_n = elements[5].get_property(\"innerHTML\").strip()\n",
    "    return (first_city, first_city_n, second_city, second_city_n, third_city, third_city_n)"
   ]
  },
  {
   "cell_type": "code",
   "execution_count": 6,
   "metadata": {},
   "outputs": [
    {
     "name": "stdout",
     "output_type": "stream",
     "text": [
      "Getting info for Aberdeen, Monmouth\n",
      "Getting info for Absecon, Atlantic\n",
      "Getting info for Allendale, Bergen\n",
      "Getting info for Allenhurst, Monmouth\n",
      "Getting info for Allentown, Monmouth\n",
      "Getting info for Alpine, Bergen\n",
      "Getting info for Andover Township, Sussex\n",
      "Getting info for Asbury Park, Monmouth\n",
      "Getting info for Atlantic City, Atlantic\n",
      "Getting info for Atlantic Highlands, Monmouth\n",
      "Getting info for Audubon, Camden\n",
      "Getting info for Avalon, Cape May\n",
      "Getting info for Avon-By-the-Sea, Monmouth\n",
      "Getting info for Barnegat, Ocean\n",
      "Getting info for Barrington, Camden\n"
     ]
    }
   ],
   "source": [
    "for dept in depts_list[:15]:\n",
    "    # go to page\n",
    "    browser.get(BASE_URL + dept['relative_url'])\n",
    "\n",
    "    print(f\"Getting info for {dept['name']}\")\n",
    "    \n",
    "    # get likelihood numbers\n",
    "    # by population\n",
    "    try:\n",
    "        (prop, number) = get_likelihood_numbers('left')\n",
    "        dept[prop] = number\n",
    "    except:\n",
    "        dept['population'] = 'Not found'\n",
    "    # by arrests\n",
    "    try:\n",
    "        (prop, number) = get_likelihood_numbers('right')\n",
    "        dept[prop] = number\n",
    "    except:\n",
    "        dept['arrests'] = 'Not found'\n",
    "    \n",
    "    # get no of officers that would be flagged in other cities\n",
    "    try:\n",
    "        (first_city, first_city_n, second_city, second_city_n, third_city, third_city_n) = get_flagging_officer_numbers()\n",
    "        dept[first_city] = first_city_n\n",
    "        dept[second_city] = second_city_n\n",
    "        dept[third_city] = third_city_n\n",
    "    except:\n",
    "        dept['Los Angeles'] = 'Not found'\n",
    "        dept['New York City'] = 'Not found'\n",
    "        dept['Chicago'] = 'Not found'\n",
    " "
   ]
  },
  {
   "cell_type": "code",
   "execution_count": 7,
   "metadata": {},
   "outputs": [],
   "source": [
    "data = pd.DataFrame(depts_list)\n",
    "data['full_url'] = BASE_URL + data['relative_url']"
   ]
  },
  {
   "cell_type": "code",
   "execution_count": 8,
   "metadata": {},
   "outputs": [
    {
     "data": {
      "text/html": [
       "<div>\n",
       "<style scoped>\n",
       "    .dataframe tbody tr th:only-of-type {\n",
       "        vertical-align: middle;\n",
       "    }\n",
       "\n",
       "    .dataframe tbody tr th {\n",
       "        vertical-align: top;\n",
       "    }\n",
       "\n",
       "    .dataframe thead th {\n",
       "        text-align: right;\n",
       "    }\n",
       "</style>\n",
       "<table border=\"1\" class=\"dataframe\">\n",
       "  <thead>\n",
       "    <tr style=\"text-align: right;\">\n",
       "      <th></th>\n",
       "      <th>name</th>\n",
       "      <th>relative_url</th>\n",
       "      <th>population</th>\n",
       "      <th>arrests</th>\n",
       "      <th>Los Angeles</th>\n",
       "      <th>New York City</th>\n",
       "      <th>Chicago</th>\n",
       "      <th>full_url</th>\n",
       "    </tr>\n",
       "  </thead>\n",
       "  <tbody>\n",
       "    <tr>\n",
       "      <th>0</th>\n",
       "      <td>Aberdeen, Monmouth</td>\n",
       "      <td>/database/pd-dept/aberdeen-monmouth</td>\n",
       "      <td>294%</td>\n",
       "      <td>42%</td>\n",
       "      <td>Not found</td>\n",
       "      <td>Not found</td>\n",
       "      <td>Not found</td>\n",
       "      <td>http://force.nj.com/database/pd-dept/aberdeen-...</td>\n",
       "    </tr>\n",
       "    <tr>\n",
       "      <th>1</th>\n",
       "      <td>Absecon, Atlantic</td>\n",
       "      <td>/database/pd-dept/absecon-atlantic</td>\n",
       "      <td>583%</td>\n",
       "      <td>68%</td>\n",
       "      <td>0</td>\n",
       "      <td>9</td>\n",
       "      <td>13</td>\n",
       "      <td>http://force.nj.com/database/pd-dept/absecon-a...</td>\n",
       "    </tr>\n",
       "    <tr>\n",
       "      <th>2</th>\n",
       "      <td>Allendale, Bergen</td>\n",
       "      <td>/database/pd-dept/allendale-bergen</td>\n",
       "      <td>N/A</td>\n",
       "      <td>8%</td>\n",
       "      <td>0</td>\n",
       "      <td>2</td>\n",
       "      <td>3</td>\n",
       "      <td>http://force.nj.com/database/pd-dept/allendale...</td>\n",
       "    </tr>\n",
       "    <tr>\n",
       "      <th>3</th>\n",
       "      <td>Allenhurst, Monmouth</td>\n",
       "      <td>/database/pd-dept/allenhurst-monmouth</td>\n",
       "      <td>N/A</td>\n",
       "      <td>N/A</td>\n",
       "      <td>0</td>\n",
       "      <td>4</td>\n",
       "      <td>4</td>\n",
       "      <td>http://force.nj.com/database/pd-dept/allenhurs...</td>\n",
       "    </tr>\n",
       "    <tr>\n",
       "      <th>4</th>\n",
       "      <td>Allentown, Monmouth</td>\n",
       "      <td>/database/pd-dept/allentown-monmouth</td>\n",
       "      <td>N/A</td>\n",
       "      <td>N/A</td>\n",
       "      <td>0</td>\n",
       "      <td>1</td>\n",
       "      <td>1</td>\n",
       "      <td>http://force.nj.com/database/pd-dept/allentown...</td>\n",
       "    </tr>\n",
       "    <tr>\n",
       "      <th>...</th>\n",
       "      <td>...</td>\n",
       "      <td>...</td>\n",
       "      <td>...</td>\n",
       "      <td>...</td>\n",
       "      <td>...</td>\n",
       "      <td>...</td>\n",
       "      <td>...</td>\n",
       "      <td>...</td>\n",
       "    </tr>\n",
       "    <tr>\n",
       "      <th>542</th>\n",
       "      <td>Knowlton Township, Warren</td>\n",
       "      <td>/database/pd-dept/knowlton-township-warren</td>\n",
       "      <td>NaN</td>\n",
       "      <td>NaN</td>\n",
       "      <td>NaN</td>\n",
       "      <td>NaN</td>\n",
       "      <td>NaN</td>\n",
       "      <td>http://force.nj.com/database/pd-dept/knowlton-...</td>\n",
       "    </tr>\n",
       "    <tr>\n",
       "      <th>543</th>\n",
       "      <td>Liberty Township, Warren</td>\n",
       "      <td>/database/pd-dept/liberty-township-warren</td>\n",
       "      <td>NaN</td>\n",
       "      <td>NaN</td>\n",
       "      <td>NaN</td>\n",
       "      <td>NaN</td>\n",
       "      <td>NaN</td>\n",
       "      <td>http://force.nj.com/database/pd-dept/liberty-t...</td>\n",
       "    </tr>\n",
       "    <tr>\n",
       "      <th>544</th>\n",
       "      <td>Oxford, Warren</td>\n",
       "      <td>/database/pd-dept/oxford-warren</td>\n",
       "      <td>NaN</td>\n",
       "      <td>NaN</td>\n",
       "      <td>NaN</td>\n",
       "      <td>NaN</td>\n",
       "      <td>NaN</td>\n",
       "      <td>http://force.nj.com/database/pd-dept/oxford-wa...</td>\n",
       "    </tr>\n",
       "    <tr>\n",
       "      <th>545</th>\n",
       "      <td>White, Warren</td>\n",
       "      <td>/database/pd-dept/white-warren</td>\n",
       "      <td>NaN</td>\n",
       "      <td>NaN</td>\n",
       "      <td>NaN</td>\n",
       "      <td>NaN</td>\n",
       "      <td>NaN</td>\n",
       "      <td>http://force.nj.com/database/pd-dept/white-warren</td>\n",
       "    </tr>\n",
       "    <tr>\n",
       "      <th>546</th>\n",
       "      <td>New Jersey State Police (NJSP)&amp;nbsp;</td>\n",
       "      <td>/database/pd-dept/njsp</td>\n",
       "      <td>NaN</td>\n",
       "      <td>NaN</td>\n",
       "      <td>NaN</td>\n",
       "      <td>NaN</td>\n",
       "      <td>NaN</td>\n",
       "      <td>http://force.nj.com/database/pd-dept/njsp</td>\n",
       "    </tr>\n",
       "  </tbody>\n",
       "</table>\n",
       "<p>547 rows × 8 columns</p>\n",
       "</div>"
      ],
      "text/plain": [
       "                                     name  \\\n",
       "0                      Aberdeen, Monmouth   \n",
       "1                       Absecon, Atlantic   \n",
       "2                       Allendale, Bergen   \n",
       "3                    Allenhurst, Monmouth   \n",
       "4                     Allentown, Monmouth   \n",
       "..                                    ...   \n",
       "542             Knowlton Township, Warren   \n",
       "543              Liberty Township, Warren   \n",
       "544                        Oxford, Warren   \n",
       "545                         White, Warren   \n",
       "546  New Jersey State Police (NJSP)&nbsp;   \n",
       "\n",
       "                                   relative_url population arrests  \\\n",
       "0           /database/pd-dept/aberdeen-monmouth       294%     42%   \n",
       "1            /database/pd-dept/absecon-atlantic       583%     68%   \n",
       "2            /database/pd-dept/allendale-bergen        N/A      8%   \n",
       "3         /database/pd-dept/allenhurst-monmouth        N/A     N/A   \n",
       "4          /database/pd-dept/allentown-monmouth        N/A     N/A   \n",
       "..                                          ...        ...     ...   \n",
       "542  /database/pd-dept/knowlton-township-warren        NaN     NaN   \n",
       "543   /database/pd-dept/liberty-township-warren        NaN     NaN   \n",
       "544             /database/pd-dept/oxford-warren        NaN     NaN   \n",
       "545              /database/pd-dept/white-warren        NaN     NaN   \n",
       "546                      /database/pd-dept/njsp        NaN     NaN   \n",
       "\n",
       "    Los Angeles New York City    Chicago  \\\n",
       "0     Not found     Not found  Not found   \n",
       "1             0             9         13   \n",
       "2             0             2          3   \n",
       "3             0             4          4   \n",
       "4             0             1          1   \n",
       "..          ...           ...        ...   \n",
       "542         NaN           NaN        NaN   \n",
       "543         NaN           NaN        NaN   \n",
       "544         NaN           NaN        NaN   \n",
       "545         NaN           NaN        NaN   \n",
       "546         NaN           NaN        NaN   \n",
       "\n",
       "                                              full_url  \n",
       "0    http://force.nj.com/database/pd-dept/aberdeen-...  \n",
       "1    http://force.nj.com/database/pd-dept/absecon-a...  \n",
       "2    http://force.nj.com/database/pd-dept/allendale...  \n",
       "3    http://force.nj.com/database/pd-dept/allenhurs...  \n",
       "4    http://force.nj.com/database/pd-dept/allentown...  \n",
       "..                                                 ...  \n",
       "542  http://force.nj.com/database/pd-dept/knowlton-...  \n",
       "543  http://force.nj.com/database/pd-dept/liberty-t...  \n",
       "544  http://force.nj.com/database/pd-dept/oxford-wa...  \n",
       "545  http://force.nj.com/database/pd-dept/white-warren  \n",
       "546          http://force.nj.com/database/pd-dept/njsp  \n",
       "\n",
       "[547 rows x 8 columns]"
      ]
     },
     "execution_count": 8,
     "metadata": {},
     "output_type": "execute_result"
    }
   ],
   "source": [
    "data"
   ]
  },
  {
   "cell_type": "code",
   "execution_count": null,
   "metadata": {},
   "outputs": [],
   "source": [
    "#data.to_csv(INTERIM_DATA / f'rough-scrape-data-{today}.csv', encoding = 'utf-8', index = False)"
   ]
  }
 ],
 "metadata": {
  "kernelspec": {
   "display_name": "Python 3",
   "language": "python",
   "name": "python3"
  },
  "language_info": {
   "codemirror_mode": {
    "name": "ipython",
    "version": 3
   },
   "file_extension": ".py",
   "mimetype": "text/x-python",
   "name": "python",
   "nbconvert_exporter": "python",
   "pygments_lexer": "ipython3",
   "version": "3.8.1"
  }
 },
 "nbformat": 4,
 "nbformat_minor": 4
}
