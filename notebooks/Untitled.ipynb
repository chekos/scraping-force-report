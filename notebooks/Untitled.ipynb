{
 "cells": [
  {
   "cell_type": "markdown",
   "metadata": {},
   "source": [
    "# Cleaning up the code\n",
    "\n",
    "Steps:\n",
    "1. Compile list of possible police-dept options from dropdown menu search box\n",
    "2. From each one retrieve:\n",
    "  - Likelihood of force (black vs white) based on population\n",
    "  - Likelihood of force (black vs white) based on arrests\n",
    "  - No. of police officers that would be flagged under LAPD standards\n",
    "  - No. of police officers that would be flagged under NYPD standards\n",
    "  - No. of police officers that would be flagged under Chicago PD standards\n",
    "  \n",
    "Notes: No. of police officers flagged only appears when the page is visited by a browser. If you use `requests` the `<div>` where these numbers would appears shows up empty. "
   ]
  },
  {
   "cell_type": "code",
   "execution_count": 1,
   "metadata": {},
   "outputs": [],
   "source": [
    "import pandas as pd\n",
    "from selenium import webdriver\n",
    "import requests\n",
    "from pathlib import Path\n",
    "from tools import tree\n",
    "from datetime import datetime as dt\n",
    "\n",
    "today = dt.today().strftime(\"%Y-%m-%d\")"
   ]
  },
  {
   "cell_type": "code",
   "execution_count": 2,
   "metadata": {},
   "outputs": [],
   "source": [
    "RAW_DATA = Path(\"../data/raw/\")\n",
    "INTERIM_DATA = Path(\"../data/interim/\")\n",
    "PROCESSED_DATA = Path(\"../data/processed/\")\n",
    "FINAL_DATA = Path(\"../data/final/\")"
   ]
  },
  {
   "cell_type": "code",
   "execution_count": 5,
   "metadata": {},
   "outputs": [],
   "source": [
    "BASE_URL = 'http://force.nj.com'"
   ]
  },
  {
   "cell_type": "code",
   "execution_count": 4,
   "metadata": {},
   "outputs": [],
   "source": [
    "browser = webdriver.Chrome(\"./chromedriver\")"
   ]
  },
  {
   "cell_type": "code",
   "execution_count": 6,
   "metadata": {},
   "outputs": [],
   "source": [
    "browser.get(BASE_URL)"
   ]
  },
  {
   "cell_type": "code",
   "execution_count": 13,
   "metadata": {},
   "outputs": [],
   "source": [
    "police_depts_list = browser.find_element_by_id(\"mylist\")"
   ]
  },
  {
   "cell_type": "code",
   "execution_count": 15,
   "metadata": {},
   "outputs": [],
   "source": [
    "police_depts = police_depts_list.find_elements_by_tag_name(\"option\")"
   ]
  },
  {
   "cell_type": "code",
   "execution_count": 27,
   "metadata": {},
   "outputs": [],
   "source": [
    "test_option = police_depts[0]"
   ]
  },
  {
   "cell_type": "code",
   "execution_count": 28,
   "metadata": {},
   "outputs": [
    {
     "data": {
      "text/plain": [
       "'/database/pd-dept/aberdeen-monmouth'"
      ]
     },
     "execution_count": 28,
     "metadata": {},
     "output_type": "execute_result"
    }
   ],
   "source": [
    "test_option.get_attribute('value')"
   ]
  },
  {
   "cell_type": "code",
   "execution_count": 29,
   "metadata": {},
   "outputs": [
    {
     "data": {
      "text/plain": [
       "'Aberdeen, Monmouth '"
      ]
     },
     "execution_count": 29,
     "metadata": {},
     "output_type": "execute_result"
    }
   ],
   "source": [
    "test_option.get_attribute('innerHTML')"
   ]
  },
  {
   "cell_type": "code",
   "execution_count": 25,
   "metadata": {},
   "outputs": [],
   "source": [
    "depts_list = []\n",
    "for dept in police_depts:\n",
    "    dept_info = {}\n",
    "    dept_info['name'] = dept.get_attribute(\"innerHTML\").strip()\n",
    "    dept_info['relative_url'] = dept.get_attribute(\"value\")\n",
    "    depts_list.append(dept_info)"
   ]
  },
  {
   "cell_type": "code",
   "execution_count": 30,
   "metadata": {},
   "outputs": [],
   "source": [
    "test_dept = depts_list[0]"
   ]
  },
  {
   "cell_type": "code",
   "execution_count": 31,
   "metadata": {},
   "outputs": [],
   "source": [
    "browser.get(BASE_URL + test_dept['relative_url'])"
   ]
  },
  {
   "cell_type": "code",
   "execution_count": 32,
   "metadata": {},
   "outputs": [],
   "source": [
    "rbk = browser.find_element_by_class_name(\"racial_breakdown\")"
   ]
  },
  {
   "cell_type": "code",
   "execution_count": 39,
   "metadata": {},
   "outputs": [],
   "source": [
    "left_div = rbk.find_element_by_class_name(\"left\")\n",
    "right_div = rbk.find_element_by_class_name(\"right\")"
   ]
  },
  {
   "cell_type": "code",
   "execution_count": 41,
   "metadata": {},
   "outputs": [
    {
     "data": {
      "text/plain": [
       "'population,'"
      ]
     },
     "execution_count": 41,
     "metadata": {},
     "output_type": "execute_result"
    }
   ],
   "source": [
    "left_div.find_element_by_class_name(\"important_num2\").get_property(\"innerHTML\")"
   ]
  },
  {
   "cell_type": "code",
   "execution_count": 42,
   "metadata": {},
   "outputs": [
    {
     "data": {
      "text/plain": [
       "'\\n\\n\\n              294%\\n\\n             \\n\\n            '"
      ]
     },
     "execution_count": 42,
     "metadata": {},
     "output_type": "execute_result"
    }
   ],
   "source": [
    "left_div.find_element_by_class_name(\"important_num1\").get_property(\"innerHTML\")"
   ]
  },
  {
   "cell_type": "code",
   "execution_count": 43,
   "metadata": {},
   "outputs": [],
   "source": [
    "def get_likelihood_numbers(div_name = 'left'):\n",
    "    race_breakdown = browser.find_element_by_class_name(\"racial_breakdown\")\n",
    "    div = rbk.find_element_by_class_name(div_name)\n",
    "    based_on = div.find_element_by_class_name(\"important_num2\").get_property(\"innerHTML\").strip()\n",
    "    likelihood = div.find_element_by_class_name(\"important_num1\").get_property(\"innerHTML\").strip()\n",
    "    return (based_on, likelihood)"
   ]
  },
  {
   "cell_type": "code",
   "execution_count": 45,
   "metadata": {},
   "outputs": [
    {
     "data": {
      "text/plain": [
       "('arrests,', '42%')"
      ]
     },
     "execution_count": 45,
     "metadata": {},
     "output_type": "execute_result"
    }
   ],
   "source": [
    "get_likelihood_numbers('right')"
   ]
  },
  {
   "cell_type": "code",
   "execution_count": 52,
   "metadata": {},
   "outputs": [],
   "source": [
    "early_warning = browser.find_element_by_class_name(\"earlywarning\")"
   ]
  },
  {
   "cell_type": "code",
   "execution_count": 49,
   "metadata": {},
   "outputs": [
    {
     "data": {
      "text/plain": [
       "[<selenium.webdriver.remote.webelement.WebElement (session=\"64856079453687ccc5975b303d3cdba1\", element=\"ef8aa835-d3ae-490e-a266-3c2f54b05b0d\")>,\n",
       " <selenium.webdriver.remote.webelement.WebElement (session=\"64856079453687ccc5975b303d3cdba1\", element=\"734c88c6-f1e1-4d6a-818f-45b6f296d5aa\")>,\n",
       " <selenium.webdriver.remote.webelement.WebElement (session=\"64856079453687ccc5975b303d3cdba1\", element=\"157af821-ae8f-4c0d-a194-e41c18c3578f\")>,\n",
       " <selenium.webdriver.remote.webelement.WebElement (session=\"64856079453687ccc5975b303d3cdba1\", element=\"5d1c2f2d-7d62-4dc3-a9f9-0919805508ee\")>,\n",
       " <selenium.webdriver.remote.webelement.WebElement (session=\"64856079453687ccc5975b303d3cdba1\", element=\"07350254-f2a0-4e83-a94c-01fe7cca4d70\")>,\n",
       " <selenium.webdriver.remote.webelement.WebElement (session=\"64856079453687ccc5975b303d3cdba1\", element=\"22c03eca-fefd-4e46-a096-5a8c93660342\")>]"
      ]
     },
     "execution_count": 49,
     "metadata": {},
     "output_type": "execute_result"
    }
   ],
   "source": [
    "early_warning.find_elements_by_class_name(\"important_num_red2\")"
   ]
  },
  {
   "cell_type": "code",
   "execution_count": 53,
   "metadata": {},
   "outputs": [],
   "source": [
    "def get_flagging_officer_numbers():\n",
    "    early_warning = browser.find_element_by_class_name(\"earlywarning\")\n",
    "    elements = early_warning.find_elements_by_class_name(\"important_num_red2\")\n",
    "    if len(elements) == 6:\n",
    "        first_city = elements[0].get_property(\"innerHTML\")\n",
    "        first_city_n = elements[1].get_property(\"innerHTML\")\n",
    "        second_city = elements[2].get_property(\"innerHTML\")\n",
    "        second_city_n = elements[3].get_property(\"innerHTML\")\n",
    "        third_city = elements[4].get_property(\"innerHTML\")\n",
    "        third_city_n = elements[5].get_property(\"innerHTML\")\n",
    "    return (first_city, first_city_n, second_city, second_city_n, third_city, third_city_n)"
   ]
  },
  {
   "cell_type": "code",
   "execution_count": 54,
   "metadata": {},
   "outputs": [
    {
     "data": {
      "text/plain": [
       "(\"Los Angeles'\", '4', \"New York City's\", '15', \"Chicago's\", '16')"
      ]
     },
     "execution_count": 54,
     "metadata": {},
     "output_type": "execute_result"
    }
   ],
   "source": [
    "get_flagging_officer_numbers()"
   ]
  },
  {
   "cell_type": "code",
   "execution_count": null,
   "metadata": {},
   "outputs": [],
   "source": [
    "for dept in depts_list:\n",
    "    # go to page\n",
    "    browser.get(BASE_URL + dept['relative_url'])\n",
    "    \n",
    "    # get likelihood numbers\n",
    "    # by population\n",
    "    try:\n",
    "        (prop, number) = get_likelihood_numbers('left')\n",
    "        dept[prop] = number\n",
    "    except:\n",
    "        dept['population'] = 'Not found'\n",
    "    # by arrests\n",
    "    try:\n",
    "        (prop, number) = get_likelihood_numbers('right')\n",
    "        dept[prop] = number\n",
    "    except:\n",
    "        dept['arrests'] = 'Not found'\n",
    "    \n",
    "    # get no of officers that would be flagged in other cities\n",
    "    try:\n",
    "        (first_city, first_city_n, second_city, second_city_n, third_city, third_city_n) = get_flagging_officer_numbers()\n",
    "        dept[first_city] = first_city_n\n",
    "        dept[second_city] = second_city_n\n",
    "        dept[third_city] = third_city_n\n",
    "    except:\n",
    "        dept['Los Angeles'] = 'Not found'\n",
    "        dept['New York City'] = 'Not found'\n",
    "        dept['Chicago'] = 'Not found'\n",
    "        "
   ]
  }
 ],
 "metadata": {
  "kernelspec": {
   "display_name": "Python 3",
   "language": "python",
   "name": "python3"
  },
  "language_info": {
   "codemirror_mode": {
    "name": "ipython",
    "version": 3
   },
   "file_extension": ".py",
   "mimetype": "text/x-python",
   "name": "python",
   "nbconvert_exporter": "python",
   "pygments_lexer": "ipython3",
   "version": "3.8.1"
  }
 },
 "nbformat": 4,
 "nbformat_minor": 4
}
